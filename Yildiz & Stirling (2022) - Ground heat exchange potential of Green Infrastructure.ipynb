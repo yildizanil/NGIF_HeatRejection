{
 "cells": [
  {
   "cell_type": "markdown",
   "id": "f39f5c8e",
   "metadata": {},
   "source": [
    "# Ground heat exchange potential of Green Infrastructure"
   ]
  },
  {
   "cell_type": "markdown",
   "id": "6dfe9ff6",
   "metadata": {},
   "source": [
    "**Anil Yildiz $^{a, b, c}$ & Ross A. Stirling $^{b, c}$**\n",
    "\n",
    "$^a$ Computational Geoscience, University of Göttingen, Göttingen, 37077, Germany\n",
    "\n",
    "$^b$ School of Engineering, Newcastle University, Newcastle upon Tyne, NE1 7RU, United\n",
    "Kingdom\n",
    "\n",
    "$^c$ National Green Infrastructure Facility, Newcastle University, Newcastle upon\n",
    "Tyne, NE4 5TG, United Kingdom"
   ]
  },
  {
   "cell_type": "markdown",
   "id": "3646f83a",
   "metadata": {},
   "source": [
    "## Abstract\n",
    "\n",
    "Both Green Infrastructure and Ground Source Heat Exchangers provide\n",
    "opportunities to significantly improve the resilience and sustainability of\n",
    "our built environment. This work explores the thermo-hydrological\n",
    "response of a vegetated Sustainable Drainage System under physically\n",
    "simulated heat rejection conditions using a heavily-instrumented lysimeter.\n",
    "A range of field testing scenarios (thermal load and cycling) were applied\n",
    "under natural, external ambient conditions. Soil temperature during heat\n",
    "rejection was also simulated numerically by solving a transient heat\n",
    "conduction equation with a finite difference modelling scheme. The\n",
    "developed model was validated using measurements from the lysimeter\n",
    "setup which then enabled numerical experiments into the effects of varying\n",
    "hydrological regimes to be performed. Results of the field testing showed\n",
    "that heat rejection propagates a temperature change only at deeper layers,\n",
    "while the temperature of shallow layers are still governed by the atmospheric conditions.\n",
    "\n",
    "**Keywords:** Green infrastructure, Ground heat exchangers, Heat rejection,\n",
    "Field testing, Numerical modelling"
   ]
  },
  {
   "cell_type": "markdown",
   "id": "b8faa012",
   "metadata": {},
   "source": [
    "## Introduction\n",
    "\n",
    "Energy demand for space heating and cooling accounts for nearly a third of the final energy demand in the 28 member states of the European Union, the majority of which comes from residential buildings, supplied with energy generated from fossil fuels ([Fleiter et al., 2017](https://ec.europa.eu/energy/sites/default/files/documents/mapping-hc-final_report_wp1.pdf)). The inevitable need to reduce fossil fuel consumption has led to an increased need to rapidly develop renewable energy solutions, including the use of multiple sources.\n",
    "\n",
    "Geothermal energy, which has been documented to be utilised in more than 80 countries ([Lund and Boyd, 2016](https://doi.org/10.1016/j.geothermics.2015.11.004)), is an alternative to fossil fuels for electricity generation, direct heating, and indirect heating and cooling via ground source heat pumps (GSHP) ([Self et al., 2013](https://doi.org/10.1016/j.apenergy.2012.01.048)). GSHP systems consists of a heat pump, a heat exchanger fluid and a ground heat exchanger in which the fluid is circulated. The coefficient of performance of GSHP systems are higher than conventional systems ([Healy and Ugursal, 1997](https://doi.org/10.1002/(SICI)1099-114X(199708)21:10%3C857::AID-ER279%3E3.0.CO;2-1)), and their market share is expected to increase in the United Kingdom ([Day et al., 2009](http://dx.doi.org/10.1016%2Fj.enbuild.2009.04.001)).\n",
    "\n",
    "The most commonly used type of ground heat exchangers are the closed loop vertical GHEs within boreholes ([Go et al., 2015](https://dx.doi.org/10.1016/j.energy.2015.02.086)), however drilling deep boreholes results in a budget that might be excessive for small residential and commercial applications.  Horizontal GHEs buried in shallow trenches offer a viable alternative solution for smaller demands, as trench installation requires a lower budget ([Wu et al., 2015](https://dx.doi.org/10.1007/s10706-014-9811-2)), however a large area of land is needed ([Go et al., 2015](dx.doi.org/10.1016/j.energy.2015.02.086)). The implementation of shallow GHEs in rural areas are relatively easier compared to urban areas due to the vast amounts of available land ([Šeďová et al., 2013](https://doi.org/10.17221/30/2012-RAE)). Dedicating areas to build shallow GHEs in urban areas is even more problematic in densely populated countries. Therefore, optimisation of pipe length is essential to minimise both the material and installation costs ([Fuji et al., 2012](https://doi.org/10.1016/j.geothermics.2011.09.002)).\n",
    "\n",
    "The following parameters affect the performance of either deep or shallow GSHP systems, and in turn define the design criteria ([Healy and Ugursal, 1997](https://doi.org/10.1002/(SICI)1099-114X(199708)21:10%3C857::AID-ER279%3E3.0.CO;2-1)):\n",
    "\n",
    "- GSHP capacity\n",
    "- Content and flow rate of heat transfer fluid\n",
    "- Type of GHE\n",
    "- Depth, dimensioning and pipe size of GHE\n",
    "- Soil thermal properties\n",
    "\n",
    "The first four items in this list can increase the efficiency or performance of a GSHP system if one invests in more material or advanced technology, which may not always be cost-effective. For example, GHE type, e.g., horizontal slinky or coil, can be much more influential for shallow GHEs than the pipe diameter ([Kim et al., 2016](https://dx.doi.org/10.1016/j.geothermics.2015.12.009)). However, accurate estimation of mean thermal properties are among the most important design constraints of GSHP systems ([Simms et al., 2014](https://dx.doi.org/10.1016/j.geothermics.2013.08.007)), and varying soil thermal properties, i.e. thermal conductivity, will affect the performance of the system significantly.\n",
    "\n",
    "Numerous evidences are available in the literature documenting the relationship between the thermal efficiency of the system and the thermal conductivity of the medium ([Chong et al., 2013](https://dx.doi.org/10.1016/j.apenergy.2012.11.069), [Naylor et al., 2015](https://dx.doi.org/10.1016/j.renene.2015.03.006), [Wu et al., 2015](https://dx.doi.org/10.1007/s10706-014-9811-2)). Bulk thermal conductivity for soils is a function of mineralogy, density and water content ([De Vries, 1963](https://www.cabdirect.org/cabdirect/abstract/19640701041)). As shallow GHEs are built in trenches with compacted backfill materials, the variation mostly comes from changes in the water content ([Wu et al., 2015](https://dx.doi.org/10.1007/s10706-014-9811-2)). Groundwater flow for deep GHEs ([Hwang et al., 2010](https://dx.doi.org/10.1016/j.renene.2010.01.028)) and rainfall infiltration for shallow ones ([Go et al., 2015](https://dx.doi.org/10.1016/j.energy.2015.02.086)) are found to affect the energy transfer.\n",
    "\n",
    "Means of increasing the water content of trenches artificially have been proposed, such as directing roof drainage into the ground ([Di Sipio and Bertermann, 2017](https://doi.org/10.3390/en10111897)), irrigating trench areas ([Naylor et al., 2015](https://dx.doi.org/10.1016/j.renene.2015.03.006), [DiCarlo, 2021](https://doi.org/10.1016/j.applthermaleng.2020.116510)), and utilising rain gardens and rainwater harvesting systems ([Gao et al., 2016](https://dx.doi.org/10.1016/j.enbuild.2015.10.030)). The multi-beneficial nature of SuDS can be exploited in terms of serving as a medium for shallow GHEs, as they are purpose-built to hold water in their substrates.\n",
    "\n",
    "Green infrastructure (GI), in the form of green roofs and living walls, has been used mostly as a means of passive cooling ([de Gracia et al., 2018](https://dx.doi.org/10.1016/j.rser.2017.09.109)), but the potential of other components of GI needs to be investigated. There is a bifold benefit in utilising SuDS in GSHP application in urban areas. Firstly, it removes the need to dedicate space to build shallow GHEs. Secondly, the substrate of SuDS can remain in the high thermal conductivity range even in Summer ([Yildiz and Stirling, 2021](https://doi.org/10.1016/j.gete.2020.100219)), which can increase the efficiency of the GSHP system.\n",
    "\n",
    "This study aims to present the behaviour of simulated, both physically and numerically, heat rejection into a purpose-built at-scale GI component. The objectives are to investigate the temperature fluctuation in the substrate of SuDS under various heat rejection thermal loading scenarios, to analyse the hydrological regime of the SuDS during heat rejection, to simulate the variations in the soil temperature due to heat rejection, and to perform predictions under different hydrological scenarios."
   ]
  }
 ],
 "metadata": {
  "kernelspec": {
   "display_name": "R",
   "language": "R",
   "name": "ir"
  },
  "language_info": {
   "codemirror_mode": "r",
   "file_extension": ".r",
   "mimetype": "text/x-r-source",
   "name": "R",
   "pygments_lexer": "r",
   "version": "3.6.1"
  }
 },
 "nbformat": 4,
 "nbformat_minor": 5
}
